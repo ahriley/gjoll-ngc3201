{
 "cells": [
  {
   "cell_type": "code",
   "execution_count": 11,
   "metadata": {},
   "outputs": [],
   "source": [
    "import numpy as np\n",
    "import matplotlib.pyplot as plt\n",
    "from astropy.time import Time\n",
    "import astropy.coordinates as coord\n",
    "import astropy.units as u"
   ]
  },
  {
   "cell_type": "code",
   "execution_count": 12,
   "metadata": {},
   "outputs": [],
   "source": [
    "targets = ['gjoll_4', 'gjoll_5']\n",
    "periods = [0.5687630691850727, 0.5514245773501661]\n",
    "t0s = [1717.0683591970514, 1712.462682561468]"
   ]
  },
  {
   "cell_type": "code",
   "execution_count": 13,
   "metadata": {},
   "outputs": [],
   "source": [
    "# UTC is 6 hours ahead of McDonald Observatory\n",
    "# start is 6pm local on 2019-01-11, end is 8am local on 2019-01-18\n",
    "local = Time(['2020-02-07 18:00:00.000',\n",
    "              '2020-02-11 08:00:00.000'], format='iso', scale='utc')\n",
    "run = local + 6*u.hr\n",
    "start, end = run.to_value('jd')\n",
    "\n",
    "# phases when we want to observe\n",
    "keys = ['min', 'best-start', 'best-end', 'okay-start', 'okay-end', 'opt-35']\n",
    "vals = [0.83, 0.74, 0.88, 0.53, 0.9, 0.35]"
   ]
  },
  {
   "cell_type": "code",
   "execution_count": 14,
   "metadata": {},
   "outputs": [
    {
     "data": {
      "image/png": "[encoded data removed]",
      "text/plain": [
       "<Figure size 432x288 with 1 Axes>"
      ]
     },
     "metadata": {
      "needs_background": "light"
     },
     "output_type": "display_data"
    }
   ],
   "source": [
    "for target, period, t0 in zip(targets, periods, t0s):\n",
    "    df = pd.read_csv(target+'.csv')\n",
    "    df['phase_time'] = ((df['time'] - t0) % period)/period\n",
    "    sel = df['band'] == 'G'\n",
    "    label = 'gjoll_5 - 0.58 mag' if target == 'gjoll_5' else target\n",
    "    if target == 'gjoll_5':\n",
    "        df['mag'] -= 0.58\n",
    "    plt.plot(df[sel]['phase_time'], df[sel]['mag'], '.', label=label)\n",
    "plt.axvline(0.83, label='min')\n",
    "plt.axvspan(0.74, 0.88, alpha=0.2, label='best')\n",
    "plt.axvspan(0.53, 0.9, alpha=0.1, label='okay')\n",
    "plt.legend(loc='best')\n",
    "plt.xlabel('Phase')\n",
    "plt.ylabel('Apparent mag (shifted for Gjoll-5)')\n",
    "plt.gca().invert_yaxis();"
   ]
  },
  {
   "cell_type": "code",
   "execution_count": 15,
   "metadata": {},
   "outputs": [
    {
     "data": {
      "text/html": [
       "<div>\n",
       "<style scoped>\n",
       "    .dataframe tbody tr th:only-of-type {\n",
       "        vertical-align: middle;\n",
       "    }\n",
       "\n",
       "    .dataframe tbody tr th {\n",
       "        vertical-align: top;\n",
       "    }\n",
       "\n",
       "    .dataframe thead th {\n",
       "        text-align: right;\n",
       "    }\n",
       "</style>\n",
       "<table border=\"1\" class=\"dataframe\">\n",
       "  <thead>\n",
       "    <tr style=\"text-align: right;\">\n",
       "      <th></th>\n",
       "      <th>min</th>\n",
       "      <th>best-start</th>\n",
       "      <th>best-end</th>\n",
       "      <th>okay-start</th>\n",
       "      <th>okay-end</th>\n",
       "      <th>opt-35</th>\n",
       "    </tr>\n",
       "  </thead>\n",
       "  <tbody>\n",
       "    <tr>\n",
       "      <th>3586</th>\n",
       "      <td>2020-02-08 07:53:36.903</td>\n",
       "      <td>2020-02-08 06:42:09.025</td>\n",
       "      <td>2020-02-08 08:33:19.057</td>\n",
       "      <td>2020-02-08 03:55:23.978</td>\n",
       "      <td>2020-02-08 08:49:11.919</td>\n",
       "      <td>2020-02-08 01:32:28.223</td>\n",
       "    </tr>\n",
       "    <tr>\n",
       "      <th>3587</th>\n",
       "      <td>2020-02-08 21:07:39.986</td>\n",
       "      <td>2020-02-08 19:56:12.109</td>\n",
       "      <td>2020-02-08 21:47:22.140</td>\n",
       "      <td>2020-02-08 17:09:27.061</td>\n",
       "      <td>2020-02-08 22:03:15.002</td>\n",
       "      <td>2020-02-08 14:46:31.306</td>\n",
       "    </tr>\n",
       "    <tr>\n",
       "      <th>3588</th>\n",
       "      <td>2020-02-09 10:21:43.070</td>\n",
       "      <td>2020-02-09 09:10:15.192</td>\n",
       "      <td>2020-02-09 11:01:25.224</td>\n",
       "      <td>2020-02-09 06:23:30.145</td>\n",
       "      <td>2020-02-09 11:17:18.086</td>\n",
       "      <td>2020-02-09 04:00:34.390</td>\n",
       "    </tr>\n",
       "    <tr>\n",
       "      <th>3589</th>\n",
       "      <td>2020-02-09 23:35:46.153</td>\n",
       "      <td>2020-02-09 22:24:18.276</td>\n",
       "      <td>2020-02-10 00:15:28.307</td>\n",
       "      <td>2020-02-09 19:37:33.228</td>\n",
       "      <td>2020-02-10 00:31:21.169</td>\n",
       "      <td>2020-02-09 17:14:37.473</td>\n",
       "    </tr>\n",
       "    <tr>\n",
       "      <th>3590</th>\n",
       "      <td>2020-02-10 12:49:49.237</td>\n",
       "      <td>2020-02-10 11:38:21.359</td>\n",
       "      <td>2020-02-10 13:29:31.391</td>\n",
       "      <td>2020-02-10 08:51:36.312</td>\n",
       "      <td>2020-02-10 13:45:24.253</td>\n",
       "      <td>2020-02-10 06:28:40.557</td>\n",
       "    </tr>\n",
       "    <tr>\n",
       "      <th>3591</th>\n",
       "      <td>2020-02-11 02:03:52.320</td>\n",
       "      <td>2020-02-11 00:52:24.443</td>\n",
       "      <td>2020-02-11 02:43:34.474</td>\n",
       "      <td>2020-02-10 22:05:39.395</td>\n",
       "      <td>2020-02-11 02:59:27.336</td>\n",
       "      <td>2020-02-10 19:42:43.640</td>\n",
       "    </tr>\n",
       "    <tr>\n",
       "      <th>3592</th>\n",
       "      <td>2020-02-11 15:17:55.404</td>\n",
       "      <td>2020-02-11 14:06:27.526</td>\n",
       "      <td>2020-02-11 15:57:37.558</td>\n",
       "      <td>2020-02-11 11:19:42.479</td>\n",
       "      <td>2020-02-11 16:13:30.420</td>\n",
       "      <td>2020-02-11 08:56:46.724</td>\n",
       "    </tr>\n",
       "  </tbody>\n",
       "</table>\n",
       "</div>"
      ],
      "text/plain": [
       "                          min               best-start  \\\n",
       "3586  2020-02-08 07:53:36.903  2020-02-08 06:42:09.025   \n",
       "3587  2020-02-08 21:07:39.986  2020-02-08 19:56:12.109   \n",
       "3588  2020-02-09 10:21:43.070  2020-02-09 09:10:15.192   \n",
       "3589  2020-02-09 23:35:46.153  2020-02-09 22:24:18.276   \n",
       "3590  2020-02-10 12:49:49.237  2020-02-10 11:38:21.359   \n",
       "3591  2020-02-11 02:03:52.320  2020-02-11 00:52:24.443   \n",
       "3592  2020-02-11 15:17:55.404  2020-02-11 14:06:27.526   \n",
       "\n",
       "                     best-end               okay-start  \\\n",
       "3586  2020-02-08 08:33:19.057  2020-02-08 03:55:23.978   \n",
       "3587  2020-02-08 21:47:22.140  2020-02-08 17:09:27.061   \n",
       "3588  2020-02-09 11:01:25.224  2020-02-09 06:23:30.145   \n",
       "3589  2020-02-10 00:15:28.307  2020-02-09 19:37:33.228   \n",
       "3590  2020-02-10 13:29:31.391  2020-02-10 08:51:36.312   \n",
       "3591  2020-02-11 02:43:34.474  2020-02-10 22:05:39.395   \n",
       "3592  2020-02-11 15:57:37.558  2020-02-11 11:19:42.479   \n",
       "\n",
       "                     okay-end                   opt-35  \n",
       "3586  2020-02-08 08:49:11.919  2020-02-08 01:32:28.223  \n",
       "3587  2020-02-08 22:03:15.002  2020-02-08 14:46:31.306  \n",
       "3588  2020-02-09 11:17:18.086  2020-02-09 04:00:34.390  \n",
       "3589  2020-02-10 00:31:21.169  2020-02-09 17:14:37.473  \n",
       "3590  2020-02-10 13:45:24.253  2020-02-10 06:28:40.557  \n",
       "3591  2020-02-11 02:59:27.336  2020-02-10 19:42:43.640  \n",
       "3592  2020-02-11 16:13:30.420  2020-02-11 08:56:46.724  "
      ]
     },
     "execution_count": 15,
     "metadata": {},
     "output_type": "execute_result"
    }
   ],
   "source": [
    "for target, period, t0 in zip(targets, periods, t0s):\n",
    "    df = pd.read_csv(target+'.csv')\n",
    "    result = pd.DataFrame()\n",
    "    for key, val in zip(keys, vals):\n",
    "        times = t0 + 2455197.5 + (val + np.arange(4000))*period\n",
    "        t = Time(times, format='jd', scale='tcb')\n",
    "        result[key] = t.to_value('iso')\n",
    "    sel = (t.to_value('jd') > start) & (t.to_value('jd') < end)\n",
    "    result[sel].to_csv(target+'_times_februn.csv', index=False)\n",
    "result[sel]"
   ]
  },
  {
   "cell_type": "code",
   "execution_count": 20,
   "metadata": {},
   "outputs": [
    {
     "data": {
      "text/plain": [
       "['2020-02-08 01:32:28.223',\n",
       " '2020-02-08 14:46:31.306',\n",
       " '2020-02-09 04:00:34.390',\n",
       " '2020-02-09 17:14:37.473',\n",
       " '2020-02-10 06:28:40.557',\n",
       " '2020-02-10 19:42:43.640',\n",
       " '2020-02-11 08:56:46.724']"
      ]
     },
     "execution_count": 20,
     "metadata": {},
     "output_type": "execute_result"
    }
   ],
   "source": [
    "list(result[sel]['opt-35'].values)"
   ]
  },
  {
   "cell_type": "markdown",
   "metadata": {},
   "source": [
    "### Checking what phase we observed previously"
   ]
  },
  {
   "cell_type": "code",
   "execution_count": 6,
   "metadata": {},
   "outputs": [],
   "source": [
    "obs = Time([['2019-11-15 07:49:19.000', '2019-11-15 09:49:19.000'],\n",
    "            ['2019-12-15 05:33:07.000', '2019-12-15 06:13:07.000']],\n",
    "           format='iso', scale='utc')"
   ]
  },
  {
   "cell_type": "code",
   "execution_count": 7,
   "metadata": {},
   "outputs": [
    {
     "name": "stdout",
     "output_type": "stream",
     "text": [
      "gjoll_4 [0.93699566 0.08351244]\n",
      "gjoll_5 [0.91140627 0.96178084]\n"
     ]
    }
   ],
   "source": [
    "for target, period, t0, ob in zip(targets, periods, t0s, obs):\n",
    "    t0_abs = t0 + 2455197.5\n",
    "    phase = ((ob.to_value('jd') - t0_abs) % period)/period\n",
    "    print(target, phase)"
   ]
  },
  {
   "cell_type": "code",
   "execution_count": 8,
   "metadata": {},
   "outputs": [],
   "source": [
    "mcdonald = coord.EarthLocation.of_site('mcdonald')\n",
    "\n",
    "sc = coord.SkyCoord([78.03806898, 63.73905343],\n",
    "                    [-10.89675043, 2.567907857],\n",
    "                   unit='deg', frame='icrs')\n",
    "\n",
    "obs = Time([['2019-11-15 07:49:19.000', '2019-11-15 09:49:19.000'],\n",
    "            ['2019-12-15 05:33:07.000', '2019-12-15 06:13:07.000']],\n",
    "           format='iso', scale='utc', location=mcdonald)"
   ]
  },
  {
   "cell_type": "code",
   "execution_count": 9,
   "metadata": {},
   "outputs": [
    {
     "data": {
      "text/plain": [
       "<TimeDelta object: scale='tdb' format='jd' value=[[0.00438892 0.00537083]\n",
       " [0.00472376 0.00508191]]>"
      ]
     },
     "execution_count": 9,
     "metadata": {},
     "output_type": "execute_result"
    }
   ],
   "source": [
    "obs.light_travel_time(sc)"
   ]
  },
  {
   "cell_type": "code",
   "execution_count": null,
   "metadata": {},
   "outputs": [],
   "source": []
  }
 ],
 "metadata": {
  "kernelspec": {
   "display_name": "Python 3",
   "language": "python",
   "name": "python3"
  },
  "language_info": {
   "codemirror_mode": {
    "name": "ipython",
    "version": 3
   },
   "file_extension": ".py",
   "mimetype": "text/x-python",
   "name": "python",
   "nbconvert_exporter": "python",
   "pygments_lexer": "ipython3",
   "version": "3.6.7"
  }
 },
 "nbformat": 4,
 "nbformat_minor": 4
}
